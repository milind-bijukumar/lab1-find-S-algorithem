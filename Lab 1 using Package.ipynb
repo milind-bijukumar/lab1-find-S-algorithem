{
 "cells": [
  {
   "cell_type": "markdown",
   "metadata": {},
   "source": [
    "# FIND-S ALGORITHEM USING PACKAGE\n"
   ]
  },
  {
   "cell_type": "code",
   "execution_count": 56,
   "metadata": {},
   "outputs": [],
   "source": [
    "import pandas as pd\n",
    "import csv"
   ]
  },
  {
   "cell_type": "code",
   "execution_count": 57,
   "metadata": {},
   "outputs": [
    {
     "name": "stdout",
     "output_type": "stream",
     "text": [
      "     Sky Air Temp Humidity    Wind Water Forcast EnjoySport\n",
      "0  Sunny     Warm   Normal  Strong  Warm    Same        Yes\n",
      "1  Sunny     Warm     High  Strong  Warm    Same        Yes\n",
      "2  Rainy     Cold     High  Strong  Warm  Change         No\n",
      "3  Sunny     Warm     High  Strong  Cold  Change        Yes\n"
     ]
    }
   ],
   "source": [
    "data=pd.read_csv('C:/Users/Mili/Desktop/Mite/4MT17CS058_Milind/lab1.csv')\n",
    "columnLength=data.shape[1]\n",
    "print(data)"
   ]
  },
  {
   "cell_type": "code",
   "execution_count": 58,
   "metadata": {},
   "outputs": [],
   "source": [
    "h=['0']*(columnLength-1)\n",
    "hp=[]\n",
    "hn=[]"
   ]
  },
  {
   "cell_type": "code",
   "execution_count": 59,
   "metadata": {},
   "outputs": [],
   "source": [
    "for trainingExample in data.values:\n",
    "    if trainingExample[-1]!= 'No':\n",
    "        hp.append(list(trainingExample))\n",
    "    else:\n",
    "        hn.append(list(trainingExample))\n",
    "        "
   ]
  },
  {
   "cell_type": "code",
   "execution_count": 60,
   "metadata": {},
   "outputs": [],
   "source": [
    "for i in range(len(hp)):\n",
    "    for j in range(columnLenght-1):\n",
    "        if(h[j]=='0'):\n",
    "            h[j]=hp[i][j]\n",
    "        if(h[j]!=hp[i][j]):\n",
    "            h[j]='?'\n",
    "        else:\n",
    "            h[j]=hp[i][j]"
   ]
  },
  {
   "cell_type": "code",
   "execution_count": 61,
   "metadata": {},
   "outputs": [
    {
     "name": "stdout",
     "output_type": "stream",
     "text": [
      "\n",
      "The Positive Hypothesisis \n",
      "\n",
      "[['Sunny', 'Warm', 'Normal', 'Strong', 'Warm', 'Same', 'Yes'], ['Sunny', 'Warm', 'High', 'Strong', 'Warm', 'Same', 'Yes'], ['Sunny', 'Warm', 'High', 'Strong', 'Cold', 'Change', 'Yes']]\n",
      "\n",
      "The Negative Hypothesisis \n",
      "\n",
      "[['Sunny', 'Warm', 'Normal', 'Strong', 'Warm', 'Same', 'Yes'], ['Sunny', 'Warm', 'High', 'Strong', 'Warm', 'Same', 'Yes'], ['Sunny', 'Warm', 'High', 'Strong', 'Cold', 'Change', 'Yes']]\n",
      "\n",
      "The Maximun Specific Hypothesisis \n",
      "\n",
      "['Sunny', 'Warm', '?', 'Strong', '?', '0']\n"
     ]
    }
   ],
   "source": [
    "print('\\nThe Positive Hypothesisis \\n')\n",
    "print(hp)\n",
    "print('\\nThe Negative Hypothesisis \\n')\n",
    "print(hp)\n",
    "print('\\nThe Maximun Specific Hypothesisis \\n')\n",
    "print(h)"
   ]
  }
 ],
 "metadata": {
  "kernelspec": {
   "display_name": "Python 3",
   "language": "python",
   "name": "python3"
  },
  "language_info": {
   "codemirror_mode": {
    "name": "ipython",
    "version": 3
   },
   "file_extension": ".py",
   "mimetype": "text/x-python",
   "name": "python",
   "nbconvert_exporter": "python",
   "pygments_lexer": "ipython3",
   "version": "3.7.3"
  }
 },
 "nbformat": 4,
 "nbformat_minor": 2
}
